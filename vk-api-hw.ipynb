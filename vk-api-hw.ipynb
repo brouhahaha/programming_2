{
 "cells": [
  {
   "cell_type": "code",
   "execution_count": 2,
   "metadata": {
    "collapsed": true
   },
   "outputs": [],
   "source": [
    "import urllib.request \n",
    "import json\n",
    "import time\n",
    "import numpy\n",
    "import matplotlib\n",
    "import matplotlib.pyplot as plt\n",
    "posts_data = {}"
   ]
  },
  {
   "cell_type": "code",
   "execution_count": 3,
   "metadata": {
    "collapsed": true
   },
   "outputs": [],
   "source": [
    "def get_data_from_url(url):\n",
    "    req = urllib.request.Request(url) \n",
    "    response = urllib.request.urlopen(req) \n",
    "    result = response.read().decode('utf-8')\n",
    "    return (result)"
   ]
  },
  {
   "cell_type": "code",
   "execution_count": 4,
   "metadata": {
    "collapsed": true
   },
   "outputs": [],
   "source": [
    "# результат из джейсон в словарь\n",
    "def json_to_dict(result):\n",
    "    data = json.loads(result) \n",
    "    return data"
   ]
  },
  {
   "cell_type": "code",
   "execution_count": 5,
   "metadata": {
    "collapsed": true
   },
   "outputs": [],
   "source": [
    "# обработка поста с получением из него информации необходимого типа\n",
    "def post_content(num, content_type): #content_type = 'id' or 'text etc.; num = post num in items\n",
    "    post_content = data['response']['items'][num][content_type]\n",
    "    return post_content"
   ]
  },
  {
   "cell_type": "code",
   "execution_count": 6,
   "metadata": {
    "collapsed": true
   },
   "outputs": [],
   "source": [
    "#сбор словаря данных о постах в формате id:text\n",
    "\n",
    "def collect_post_data(data):\n",
    "    for num in range(len(data['response']['items'])):\n",
    "        about_post = {}\n",
    "        about_post ['text'] = post_content(num, 'text')\n",
    "        about_post ['author'] = post_content(num, 'from_id')\n",
    "        posts_data [post_content(num, 'id')] = about_post\n",
    "        #print (num)\n",
    "    return posts_data"
   ]
  },
  {
   "cell_type": "code",
   "execution_count": 7,
   "metadata": {},
   "outputs": [
    {
     "name": "stdout",
     "output_type": "stream",
     "text": [
      "0\n",
      "https://api.vk.com/method/wall.get?spleanclub&count=100&v=5.74&access_token=8423c2448423c2448423c244d08441f2a1884238423c244dee1644d9e90529494134bf8&offset=0\n",
      "100\n",
      "https://api.vk.com/method/wall.get?spleanclub&count=100&v=5.74&access_token=8423c2448423c2448423c244d08441f2a1884238423c244dee1644d9e90529494134bf8&offset=100\n",
      "200\n",
      "https://api.vk.com/method/wall.get?spleanclub&count=100&v=5.74&access_token=8423c2448423c2448423c244d08441f2a1884238423c244dee1644d9e90529494134bf8&offset=200\n",
      "300\n",
      "https://api.vk.com/method/wall.get?spleanclub&count=100&v=5.74&access_token=8423c2448423c2448423c244d08441f2a1884238423c244dee1644d9e90529494134bf8&offset=300\n",
      "400\n",
      "https://api.vk.com/method/wall.get?spleanclub&count=100&v=5.74&access_token=8423c2448423c2448423c244d08441f2a1884238423c244dee1644d9e90529494134bf8&offset=400\n"
     ]
    }
   ],
   "source": [
    "# cкачать посты (=100)\n",
    "offset=0\n",
    "for h in range(5):\n",
    "    print(offset)\n",
    "    result = get_data_from_url('https://api.vk.com/method/wall.get?domain=spleanclub&count=100&v=5.74&access_token=8423c2448423c2448423c244d08441f2a1884238423c244dee1644d9e90529494134bf8&offset='+str(offset))\n",
    "    print('https://api.vk.com/method/wall.get?spleanclub&count=100&v=5.74&access_token=8423c2448423c2448423c244d08441f2a1884238423c244dee1644d9e90529494134bf8&offset='+str(offset))\n",
    "    offset += 100\n",
    "    data = json_to_dict(result)\n",
    "    with open ('posts.json', 'a', encoding = 'utf-8') as pj:\n",
    "        pj.write(result)\n",
    "    collect_post_data(data)\n",
    "    time.sleep(1)"
   ]
  },
  {
   "cell_type": "code",
   "execution_count": 8,
   "metadata": {
    "collapsed": true
   },
   "outputs": [],
   "source": [
    "comments = {}\n",
    "for num_id in posts_data.keys(): \n",
    "    result1 = get_data_from_url('https://api.vk.com/method/wall.getComments?owner_id=-708&count=&v=5.74&access_token=8423c2448423c2448423c244d08441f2a1884238423c244dee1644d9e90529494134bf8&post_id='+str(num_id))\n",
    "    with open ('comments.json', 'a', encoding = 'utf-8') as pj:\n",
    "        pj.write(result1)\n",
    "    data = json_to_dict(result1)\n",
    "    comments [num_id] = data['response']['items']\n"
   ]
  },
  {
   "cell_type": "code",
   "execution_count": 9,
   "metadata": {
    "collapsed": true
   },
   "outputs": [],
   "source": [
    "#посчитать слова в заданном тексте\n",
    "def count_words(text):\n",
    "    text_splt = text.split(' ')\n",
    "    return len(text_splt)"
   ]
  },
  {
   "cell_type": "code",
   "execution_count": 10,
   "metadata": {
    "collapsed": true
   },
   "outputs": [],
   "source": [
    "#собирает массив с длиной поста и средней длиной его комменатриев (инфа по каждому посту)\n",
    "lenghts = {}\n",
    "for num_id in posts_data.keys():\n",
    "    inner_dict = {}\n",
    "    c_lenghts = []\n",
    "    inner_dict ['p'] = count_words (posts_data[num_id]['text'])\n",
    "    for i in range(len(comments[num_id])):\n",
    "        c_lenghts.append(count_words (comments[num_id][i]['text']))\n",
    "    if len(c_lenghts) == 0:\n",
    "        inner_dict ['average_c'] = 0\n",
    "    else:\n",
    "        inner_dict ['average_c'] = (sum(c_lenghts)/len(c_lenghts))\n",
    "    lenghts [num_id] = inner_dict"
   ]
  },
  {
   "cell_type": "code",
   "execution_count": 11,
   "metadata": {},
   "outputs": [
    {
     "data": {
      "image/png": "[encoded data removed]",
      "text/plain": [
       "<matplotlib.figure.Figure at 0x13d19ec0da0>"
      ]
     },
     "metadata": {},
     "output_type": "display_data"
    }
   ],
   "source": [
    "import numpy as np\n",
    "import matplotlib.pyplot as plt\n",
    "\n",
    "posts_Y = []\n",
    "for post in lenghts:\n",
    "    posts_Y.append(lenghts[post]['p'])\n",
    "\n",
    "    \n",
    "posts_Y2 = []\n",
    "for post in lenghts:\n",
    "    posts_Y2.append(lenghts[post]['average_c'])\n",
    "\n",
    "\n",
    "N = 500\n",
    "\n",
    "\n",
    "ind = np.arange(N)    # the x locations for the groups\n",
    "width = 0.35       # the width of the bars: can also be len(x) sequence\n",
    "\n",
    "p1 = plt.bar(ind, posts_Y, width)\n",
    "p2 = plt.bar(ind, posts_Y2, width,\n",
    "             bottom=posts_Y)\n",
    "\n",
    "plt.ylabel('Кол-во символов')\n",
    "plt.title('Соотношение длины поста и средней длины комментариев')\n",
    "\n",
    "plt.legend((p1[0], p2[0]), ('Пост', 'Комментарий'))\n",
    "\n",
    "plt.show()"
   ]
  },
  {
   "cell_type": "code",
   "execution_count": 12,
   "metadata": {
    "collapsed": true
   },
   "outputs": [],
   "source": [
    "def user_info(users_ids):\n",
    "    result = get_data_from_url('https://api.vk.com/method/users.get?user_ids='+users_ids+'&fields=bdate,city&v=5.8&access_token=8423c2448423c2448423c244d08441f2a1884238423c244dee1644d9e90529494134bf8')\n",
    "    data = json_to_dict(result)\n",
    "    return data"
   ]
  },
  {
   "cell_type": "code",
   "execution_count": 13,
   "metadata": {
    "collapsed": true
   },
   "outputs": [],
   "source": [
    "def collect_users_info(users_ids):\n",
    "    user_inform ={}\n",
    "    users_data = user_info(str(users_ids))\n",
    "    #user_info(','.join(users_ids))\n",
    "    users_data1=users_data['response']\n",
    "    if users_data1:\n",
    "        for i in range(len(users_data1)):\n",
    "            date_city = {}\n",
    "            try:\n",
    "                date_city['bd']=users_data1[i]['bdate']\n",
    "            except KeyError:\n",
    "                pass\n",
    "            try:\n",
    "                date_city['city']=users_data1[i]['city']['title']\n",
    "            except KeyError:\n",
    "                pass\n",
    "            user_inform[users_data1[i]['id']]=date_city\n",
    "    return user_inform"
   ]
  },
  {
   "cell_type": "code",
   "execution_count": 14,
   "metadata": {
    "collapsed": true
   },
   "outputs": [],
   "source": [
    "users_meta_post={}\n",
    "post_nums = posts_data.keys()\n",
    "for num in post_nums:\n",
    "    user_info_posts = collect_users_info(num)\n",
    "    users_meta_post.update(user_info_posts)"
   ]
  },
  {
   "cell_type": "code",
   "execution_count": 16,
   "metadata": {
    "collapsed": true
   },
   "outputs": [],
   "source": [
    "def collect_users_comments(comments):\n",
    "    comments_authors = []\n",
    "    for num in comments.keys():\n",
    "        for j in range(len(comments[num])):\n",
    "            comments_authors.append(comments[num][j]['from_id'])\n",
    "    return comments_authors\n",
    "        "
   ]
  },
  {
   "cell_type": "code",
   "execution_count": 17,
   "metadata": {},
   "outputs": [],
   "source": [
    "users_meta_comment = {}\n",
    "users_comments = collect_users_comments(comments)\n",
    "for num in users_comments[:500]:\n",
    "    user_info_comments = collect_users_info(num)\n",
    "    users_meta_comment.update(user_info_comments)"
   ]
  },
  {
   "cell_type": "code",
   "execution_count": 18,
   "metadata": {
    "collapsed": true
   },
   "outputs": [],
   "source": [
    "cities_lenghts = {}\n",
    "users_city = []\n",
    "len_posts_city = []\n",
    "for user in users_meta_post:\n",
    "    if 'city' in users_meta_post[user]:\n",
    "        c_l_keys = list(cities_lenghts.keys()) \n",
    "        if c_l_keys.count(users_meta_post[user]['city']) == 0 :\n",
    "            for user1 in users_meta_post:\n",
    "                if 'city' in users_meta_post[user1]:\n",
    "                    if users_meta_post[user]['city'] == users_meta_post[user1]['city']:\n",
    "                        users_city.append(user1)\n",
    "                        for user_c in users_city:\n",
    "                            if len(posts_data[user_c]['text']) != 0:\n",
    "                                len_posts_city.append(len(posts_data[user_c]['text']))\n",
    "                            else:\n",
    "                                len_posts_city.append(0)\n",
    "        cities_lenghts [users_meta_post[user]['city']] = sum(len_posts_city)/len(len_posts_city)\n"
   ]
  },
  {
   "cell_type": "code",
   "execution_count": 21,
   "metadata": {},
   "outputs": [],
   "source": [
    "bd_lenghts = {}\n",
    "users_bd = []\n",
    "len_posts_bd = []\n",
    "for user in users_meta_post:\n",
    "    if 'bd' in users_meta_post[user] and len(users_meta_post[user]['bd'])>=6:\n",
    "        try:\n",
    "            age = get_age(users_meta_post[user]['bd'])\n",
    "        except ValueError:\n",
    "            pass\n",
    "        bd_l_keys = list(bd_lenghts.keys()) \n",
    "        if bd_l_keys.count(age) == 0 :\n",
    "            for user1 in users_meta_post:\n",
    "                if 'bd' in users_meta_post[user1] and len(users_meta_post[user1]['bd'])>=6:\n",
    "                        try:\n",
    "                            if get_age(users_meta_post[user]['bd']) == get_age(users_meta_post[user1]['bd']):\n",
    "                                users_bd.append(user1)\n",
    "                        except ValueError: \n",
    "                            pass\n",
    "                            for user_bd in users_bd:\n",
    "                                if len(posts_data[user_bd]['text']) != 0:\n",
    "                                    len_posts_bd.append(len(posts_data[user_bd]['text']))\n",
    "                                else:\n",
    "                                    len_posts_bd.append(0)\n",
    "        bd_lenghts [age] = sum(len_posts_bd)/len(len_posts_bd)"
   ]
  },
  {
   "cell_type": "code",
   "execution_count": 20,
   "metadata": {
    "collapsed": true
   },
   "outputs": [],
   "source": [
    "from datetime import date\n",
    "\n",
    "def get_age(birthday):\n",
    "    birth_date = birthday.split('.')\n",
    "    bdate = date(int(birth_date[2]),int(birth_date[1]), int(birth_date[0]))\n",
    "    today = date.today()\n",
    "    years = today.year - bdate.year\n",
    "    if all((x >= y) for x,y in zip(today.timetuple(), bdate.timetuple())):\n",
    "        age = years\n",
    "    else:\n",
    "        age = years - 1\n",
    "    return age\n",
    "\n"
   ]
  },
  {
   "cell_type": "code",
   "execution_count": 22,
   "metadata": {
    "collapsed": true,
    "scrolled": true
   },
   "outputs": [],
   "source": [
    "cities_lenghts_c = {}\n",
    "users_city_c = []\n",
    "len_posts_city_c = []\n",
    "for user in users_meta_comment:\n",
    "    if 'city' in users_meta_comment[user]:\n",
    "        c_l_keys_c = list(cities_lenghts_c.keys()) \n",
    "        if c_l_keys_c.count(users_meta_comment[user]['city']) == 0 :\n",
    "            for user1 in users_meta_comment:\n",
    "                if 'city' in users_meta_comment[user1]:\n",
    "                    if users_meta_comment[user]['city'] == users_meta_comment[user1]['city']:\n",
    "                        users_city_c.append(user1)\n",
    "                        for user_c in users_city_c:\n",
    "                            for comm in comments:\n",
    "                                if len(comments[comm])!=0:\n",
    "                                    if 'text' in comments[comm][0] and comments[comm][0]['from_id']==user_c:\n",
    "                                        if len(comments[comm][0]['text']) != 0:\n",
    "                                            len_posts_city_c.append(len(comments[comm][0]['text']))\n",
    "                                        else:\n",
    "                                            len_posts_city_c.append(0)\n",
    "        cities_lenghts_c [users_meta_comment[user]['city']] = sum(len_posts_city_c)/len(len_posts_city_c)\n"
   ]
  },
  {
   "cell_type": "code",
   "execution_count": 23,
   "metadata": {},
   "outputs": [
    {
     "ename": "ZeroDivisionError",
     "evalue": "division by zero",
     "output_type": "error",
     "traceback": [
      "\u001b[1;31m---------------------------------------------------------------------------\u001b[0m",
      "\u001b[1;31mZeroDivisionError\u001b[0m                         Traceback (most recent call last)",
      "\u001b[1;32m<ipython-input-23-3abf8d98ce74>\u001b[0m in \u001b[0;36m<module>\u001b[1;34m()\u001b[0m\n\u001b[0;32m     25\u001b[0m                                         \u001b[1;32melse\u001b[0m\u001b[1;33m:\u001b[0m\u001b[1;33m\u001b[0m\u001b[0m\n\u001b[0;32m     26\u001b[0m                                             \u001b[0mlen_posts_bd_c\u001b[0m\u001b[1;33m.\u001b[0m\u001b[0mappend\u001b[0m\u001b[1;33m(\u001b[0m\u001b[1;36m0\u001b[0m\u001b[1;33m)\u001b[0m\u001b[1;33m\u001b[0m\u001b[0m\n\u001b[1;32m---> 27\u001b[1;33m         \u001b[0mbd_lenghts_c\u001b[0m \u001b[1;33m[\u001b[0m\u001b[0mage\u001b[0m\u001b[1;33m]\u001b[0m \u001b[1;33m=\u001b[0m \u001b[0msum\u001b[0m\u001b[1;33m(\u001b[0m\u001b[0mlen_posts_bd_c\u001b[0m\u001b[1;33m)\u001b[0m\u001b[1;33m/\u001b[0m\u001b[0mlen\u001b[0m\u001b[1;33m(\u001b[0m\u001b[0mlen_posts_bd_c\u001b[0m\u001b[1;33m)\u001b[0m\u001b[1;33m\u001b[0m\u001b[0m\n\u001b[0m",
      "\u001b[1;31mZeroDivisionError\u001b[0m: division by zero"
     ]
    }
   ],
   "source": [
    "bd_lenghts_c = {}\n",
    "users_bd_c = []\n",
    "len_posts_bd_c = []\n",
    "for user in users_meta_comment:\n",
    "    if 'bd' in users_meta_comment[user] and len(users_meta_comment[user]['bd'])>=6:\n",
    "        try:\n",
    "            age = get_age(users_meta_comment[user]['bd'])\n",
    "        except ValueError:\n",
    "            pass\n",
    "        bd_l_keys_c = list(bd_lenghts_c.keys()) \n",
    "        if bd_l_keys_c.count(age) == 0 :\n",
    "            for user1 in users_meta_comment:\n",
    "                if 'bd' in users_meta_comment[user1] and len(users_meta_comment[user1]['bd'])>=6:\n",
    "                    try:\n",
    "                        if get_age(users_meta_comment[user]['bd']) == get_age(users_meta_comment[user1]['bd']):\n",
    "                                users_bd_c.append(user1)\n",
    "                    except ValueError: \n",
    "                        pass\n",
    "                        for user_bd in users_bd_c:\n",
    "                            for comm in comments:\n",
    "                                if len(comments[comm])!=0:\n",
    "                                    if 'text' in comments[comm][0] and comments[comm][0]['from_id']==user_c:\n",
    "                                        if len(comments[comm][0]['text']) != 0:\n",
    "                                            len_posts_bd_c.append(len(comments[comm][0]['text']))\n",
    "                                        else:\n",
    "                                            len_posts_bd_c.append(0)\n",
    "        bd_lenghts_c [age] = sum(len_posts_bd_c)/len(len_posts_bd_c)"
   ]
  },
  {
   "cell_type": "code",
   "execution_count": 35,
   "metadata": {},
   "outputs": [
    {
     "ename": "ValueError",
     "evalue": "incompatible sizes: argument 'height' must be length 61 or scalar",
     "output_type": "error",
     "traceback": [
      "\u001b[1;31m---------------------------------------------------------------------------\u001b[0m",
      "\u001b[1;31mValueError\u001b[0m                                Traceback (most recent call last)",
      "\u001b[1;32m<ipython-input-35-8b8d397f83e7>\u001b[0m in \u001b[0;36m<module>\u001b[1;34m()\u001b[0m\n\u001b[0;32m     14\u001b[0m \u001b[0mwidth\u001b[0m \u001b[1;33m=\u001b[0m \u001b[1;36m0.35\u001b[0m       \u001b[1;31m# the width of the bars: can also be len(x) sequence\u001b[0m\u001b[1;33m\u001b[0m\u001b[0m\n\u001b[0;32m     15\u001b[0m \u001b[1;33m\u001b[0m\u001b[0m\n\u001b[1;32m---> 16\u001b[1;33m \u001b[0mp1\u001b[0m \u001b[1;33m=\u001b[0m \u001b[0mplt\u001b[0m\u001b[1;33m.\u001b[0m\u001b[0mbar\u001b[0m\u001b[1;33m(\u001b[0m\u001b[0mind\u001b[0m\u001b[1;33m,\u001b[0m\u001b[0mposts_cp\u001b[0m\u001b[1;33m,\u001b[0m \u001b[0mwidth\u001b[0m\u001b[1;33m)\u001b[0m\u001b[1;33m\u001b[0m\u001b[0m\n\u001b[0m\u001b[0;32m     17\u001b[0m p2 = plt.bar(ind, posts_cc, width,\n\u001b[0;32m     18\u001b[0m              bottom=posts_cc)\n",
      "\u001b[1;32mC:\\Users\\Maria\\Anaconda3\\lib\\site-packages\\matplotlib\\pyplot.py\u001b[0m in \u001b[0;36mbar\u001b[1;34m(left, height, width, bottom, hold, data, **kwargs)\u001b[0m\n\u001b[0;32m   2702\u001b[0m     \u001b[1;32mtry\u001b[0m\u001b[1;33m:\u001b[0m\u001b[1;33m\u001b[0m\u001b[0m\n\u001b[0;32m   2703\u001b[0m         ret = ax.bar(left, height, width=width, bottom=bottom, data=data,\n\u001b[1;32m-> 2704\u001b[1;33m                      **kwargs)\n\u001b[0m\u001b[0;32m   2705\u001b[0m     \u001b[1;32mfinally\u001b[0m\u001b[1;33m:\u001b[0m\u001b[1;33m\u001b[0m\u001b[0m\n\u001b[0;32m   2706\u001b[0m         \u001b[0max\u001b[0m\u001b[1;33m.\u001b[0m\u001b[0m_hold\u001b[0m \u001b[1;33m=\u001b[0m \u001b[0mwashold\u001b[0m\u001b[1;33m\u001b[0m\u001b[0m\n",
      "\u001b[1;32mC:\\Users\\Maria\\Anaconda3\\lib\\site-packages\\matplotlib\\__init__.py\u001b[0m in \u001b[0;36minner\u001b[1;34m(ax, *args, **kwargs)\u001b[0m\n\u001b[0;32m   1895\u001b[0m                     warnings.warn(msg % (label_namer, func.__name__),\n\u001b[0;32m   1896\u001b[0m                                   RuntimeWarning, stacklevel=2)\n\u001b[1;32m-> 1897\u001b[1;33m             \u001b[1;32mreturn\u001b[0m \u001b[0mfunc\u001b[0m\u001b[1;33m(\u001b[0m\u001b[0max\u001b[0m\u001b[1;33m,\u001b[0m \u001b[1;33m*\u001b[0m\u001b[0margs\u001b[0m\u001b[1;33m,\u001b[0m \u001b[1;33m**\u001b[0m\u001b[0mkwargs\u001b[0m\u001b[1;33m)\u001b[0m\u001b[1;33m\u001b[0m\u001b[0m\n\u001b[0m\u001b[0;32m   1898\u001b[0m         \u001b[0mpre_doc\u001b[0m \u001b[1;33m=\u001b[0m \u001b[0minner\u001b[0m\u001b[1;33m.\u001b[0m\u001b[0m__doc__\u001b[0m\u001b[1;33m\u001b[0m\u001b[0m\n\u001b[0;32m   1899\u001b[0m         \u001b[1;32mif\u001b[0m \u001b[0mpre_doc\u001b[0m \u001b[1;32mis\u001b[0m \u001b[1;32mNone\u001b[0m\u001b[1;33m:\u001b[0m\u001b[1;33m\u001b[0m\u001b[0m\n",
      "\u001b[1;32mC:\\Users\\Maria\\Anaconda3\\lib\\site-packages\\matplotlib\\axes\\_axes.py\u001b[0m in \u001b[0;36mbar\u001b[1;34m(self, left, height, width, bottom, **kwargs)\u001b[0m\n\u001b[0;32m   2077\u001b[0m         \u001b[1;32mif\u001b[0m \u001b[0mlen\u001b[0m\u001b[1;33m(\u001b[0m\u001b[0mheight\u001b[0m\u001b[1;33m)\u001b[0m \u001b[1;33m!=\u001b[0m \u001b[0mnbars\u001b[0m\u001b[1;33m:\u001b[0m\u001b[1;33m\u001b[0m\u001b[0m\n\u001b[0;32m   2078\u001b[0m             raise ValueError(\"incompatible sizes: argument 'height' \"\n\u001b[1;32m-> 2079\u001b[1;33m                               \"must be length %d or scalar\" % nbars)\n\u001b[0m\u001b[0;32m   2080\u001b[0m         \u001b[1;32mif\u001b[0m \u001b[0mlen\u001b[0m\u001b[1;33m(\u001b[0m\u001b[0mwidth\u001b[0m\u001b[1;33m)\u001b[0m \u001b[1;33m!=\u001b[0m \u001b[0mnbars\u001b[0m\u001b[1;33m:\u001b[0m\u001b[1;33m\u001b[0m\u001b[0m\n\u001b[0;32m   2081\u001b[0m             raise ValueError(\"incompatible sizes: argument 'width' \"\n",
      "\u001b[1;31mValueError\u001b[0m: incompatible sizes: argument 'height' must be length 61 or scalar"
     ]
    }
   ],
   "source": [
    "posts_cp = []\n",
    "for city in cities_lenghts:\n",
    "    posts_cp.append(cities_lenghts[city])\n",
    "\n",
    "    \n",
    "posts_cc = []\n",
    "for city in cities_lenghts_c:\n",
    "    posts_cc.append(cities_lenghts_c[city])\n",
    "\n",
    "N = len(cities_lenghts_c)\n",
    "\n",
    "\n",
    "ind = np.arange(N)    # th x locations for the groups\n",
    "width = 0.35       # the width of the bars: can also be len(x) sequence\n",
    "\n",
    "p1 = plt.bar(ind,posts_cp, width)\n",
    "p2 = plt.bar(ind, posts_cc, width,\n",
    "             bottom=posts_cc)\n",
    "\n",
    "plt.ylabel('Кол-во символов')\n",
    "plt.title('Длины постов и комментариев по городу')\n",
    "\n",
    "plt.legend((p1[0], p2[0]), ('Пост', 'Комментарий'))\n",
    "\n",
    "plt.show()"
   ]
  },
  {
   "cell_type": "code",
   "execution_count": null,
   "metadata": {
    "collapsed": true
   },
   "outputs": [],
   "source": []
  }
 ],
 "metadata": {
  "kernelspec": {
   "display_name": "Python 3",
   "language": "python",
   "name": "python3"
  },
  "language_info": {
   "codemirror_mode": {
    "name": "ipython",
    "version": 3
   },
   "file_extension": ".py",
   "mimetype": "text/x-python",
   "name": "python",
   "nbconvert_exporter": "python",
   "pygments_lexer": "ipython3",
   "version": "3.6.1"
  }
 },
 "nbformat": 4,
 "nbformat_minor": 2
}

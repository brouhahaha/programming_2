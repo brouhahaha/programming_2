{
 "cells": [
  {
   "cell_type": "code",
   "execution_count": 3,
   "metadata": {},
   "outputs": [
    {
     "name": "stderr",
     "output_type": "stream",
     "text": [
      "C:\\Users\\Maria\\Anaconda3\\lib\\site-packages\\gensim\\utils.py:1197: UserWarning: detected Windows; aliasing chunkize to chunkize_serial\n",
      "  warnings.warn(\"detected Windows; aliasing chunkize to chunkize_serial\")\n",
      "2018-05-29 10:47:17,949 : INFO : loading projection weights from ruscorpora_upos_skipgram_300_5_2018.vec.gz\n",
      "2018-05-29 10:49:15,289 : INFO : loaded (195071, 300) matrix from ruscorpora_upos_skipgram_300_5_2018.vec.gz\n"
     ]
    }
   ],
   "source": [
    "import sys\n",
    "import gensim, logging\n",
    "\n",
    "logging.basicConfig(format='%(asctime)s : %(levelname)s : %(message)s', level=logging.INFO)\n",
    "\n",
    "m = 'ruscorpora_upos_skipgram_300_5_2018.vec.gz'\n",
    "if m.endswith('.vec.gz'):\n",
    "    model = gensim.models.KeyedVectors.load_word2vec_format(m, binary=False)\n",
    "elif m.endswith('.bin.gz'):\n",
    "    model = gensim.models.KeyedVectors.load_word2vec_format(m, binary=True)\n",
    "else:\n",
    "    model = gensim.models.KeyedVectors.load(m)"
   ]
  },
  {
   "cell_type": "code",
   "execution_count": 4,
   "metadata": {},
   "outputs": [
    {
     "name": "stderr",
     "output_type": "stream",
     "text": [
      "2018-05-29 10:49:50,003 : INFO : precomputing L2-norms of word weight vectors\n"
     ]
    }
   ],
   "source": [
    "model.init_sims(replace=True)"
   ]
  },
  {
   "cell_type": "code",
   "execution_count": 50,
   "metadata": {
    "collapsed": true
   },
   "outputs": [],
   "source": [
    "def collect_words(filename):\n",
    "    with open (filename,'r', encoding='utf-8') as f:\n",
    "        words = f.readlines()\n",
    "    return words"
   ]
  },
  {
   "cell_type": "code",
   "execution_count": 43,
   "metadata": {},
   "outputs": [],
   "source": [
    "def preprocessing_words(words):\n",
    "    new_words = []\n",
    "    for word in words:\n",
    "        new_words.append(word.strip())\n",
    "    return new_words"
   ]
  },
  {
   "cell_type": "code",
   "execution_count": 44,
   "metadata": {},
   "outputs": [],
   "source": [
    "def words_to_graph(words):\n",
    "    all_words = {}\n",
    "    for word in words:\n",
    "        to_graph = []\n",
    "        try:\n",
    "            rest_words = words\n",
    "            if word in model:\n",
    "                for word_r in rest_words:\n",
    "                    if model.similarity(word, word_r)>0.5 and model.similarity(word, word_r)!= 1:\n",
    "                        to_graph.append(word_r.strip('_VERB'))\n",
    "            all_words[word.strip('_VERB')] = to_graph\n",
    "        except KeyError:\n",
    "            pass\n",
    "    return all_words"
   ]
  },
  {
   "cell_type": "code",
   "execution_count": 71,
   "metadata": {},
   "outputs": [],
   "source": [
    "def create_graph(words):\n",
    "    import networkx as nx\n",
    "    G = nx.Graph()\n",
    "    G.add_nodes_from(words)\n",
    "    return G\n",
    "\n",
    "def create_edges(G, words, all_words):\n",
    "    for word in words:\n",
    "        for word2 in all_words[word]:\n",
    "            G.add_edge(word, word2)\n",
    "    return G\n",
    "        \n"
   ]
  },
  {
   "cell_type": "code",
   "execution_count": 72,
   "metadata": {},
   "outputs": [],
   "source": [
    "def draw_graph(G):\n",
    "    import matplotlib.pyplot as plt \n",
    "\n",
    "    pos=nx.spring_layout(G)\n",
    "\n",
    "    nx.draw_networkx_nodes(G, pos, node_color='orange', node_size=50) # рисуем узлы красным цветом, задаём размер узла\n",
    "    nx.draw_networkx_edges(G, pos, edge_color='yellow') # рисуем рёбра жёлтым\n",
    "    plt.axis('off') # по умолчанию график будет снабжён осями с координатами, здесь они бессмысленны, так что отключаем\n",
    "    nx.draw_networkx_labels(G, pos, font_size=15, font_family='Verdana')\n",
    "    plt.show() # что получилось?"
   ]
  },
  {
   "cell_type": "code",
   "execution_count": 81,
   "metadata": {},
   "outputs": [],
   "source": [
    "def graph_info(G):\n",
    "    deg = nx.degree_centrality(G)\n",
    "    print('5 самых центральных слов:')\n",
    "    for nodeid in sorted(deg, key=deg.get, reverse=True)[:5]:\n",
    "        print('\\t', nodeid)\n",
    "    print('Радиус графа:', nx.radius(G))\n",
    "    print('Коэффициент кластеризации:', nx.average_clustering(G))"
   ]
  },
  {
   "cell_type": "code",
   "execution_count": 82,
   "metadata": {
    "collapsed": true
   },
   "outputs": [],
   "source": [
    "def main_func():\n",
    "    init_words = collect_words('words_sing.txt')\n",
    "    words = preprocessing_words(init_words)\n",
    "    dict_edges = words_to_graph(words)\n",
    "    words = list(dict_edges.keys())\n",
    "    G = create_graph(words)\n",
    "    create_edges(G, words, dict_edges)\n",
    "    draw_graph(G)\n",
    "    graph_info(G)    "
   ]
  },
  {
   "cell_type": "code",
   "execution_count": 83,
   "metadata": {},
   "outputs": [
    {
     "data": {
      "image/png": "[encoded data removed]",
      "text/plain": [
       "<matplotlib.figure.Figure at 0x2427f763f98>"
      ]
     },
     "metadata": {},
     "output_type": "display_data"
    },
    {
     "name": "stdout",
     "output_type": "stream",
     "text": [
      "5 самых центральных слов:\n",
      "\t петь\n",
      "\t распеваться\n",
      "\t запевать\n",
      "\t спеть\n",
      "\t распевать\n",
      "Радиус графа: 2\n",
      "Коэффициент кластеризации: 0.8426406926406929\n"
     ]
    }
   ],
   "source": [
    "main_func()"
   ]
  },
  {
   "cell_type": "code",
   "execution_count": null,
   "metadata": {
    "collapsed": true
   },
   "outputs": [],
   "source": []
  }
 ],
 "metadata": {
  "kernelspec": {
   "display_name": "Python 3",
   "language": "python",
   "name": "python3"
  },
  "language_info": {
   "codemirror_mode": {
    "name": "ipython",
    "version": 3
   },
   "file_extension": ".py",
   "mimetype": "text/x-python",
   "name": "python",
   "nbconvert_exporter": "python",
   "pygments_lexer": "ipython3",
   "version": "3.6.1"
  }
 },
 "nbformat": 4,
 "nbformat_minor": 2
}

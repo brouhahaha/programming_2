{
 "cells": [
  {
   "cell_type": "code",
   "execution_count": 1,
   "metadata": {
    "collapsed": true
   },
   "outputs": [],
   "source": [
    "import matplotlib\n",
    "import matplotlib.pyplot as plt\n",
    "import urllib.request\n",
    "import re\n",
    "\n",
    "reg_word_in_d = re.compile ('<ul><li>.*?</dl>', re.DOTALL)\n",
    "reg_word = re.compile ('<ul><li><b>.*?</b>', re.DOTALL)\n",
    "reg_pos = re.compile ('<dl><dd><i>.*?</i>', re.DOTALL)\n",
    "reg_tag = re.compile ('<.*?>', re.DOTALL)"
   ]
  },
  {
   "cell_type": "code",
   "execution_count": 2,
   "metadata": {
    "collapsed": true
   },
   "outputs": [],
   "source": [
    "def create_html(url, encoding):\n",
    "    user_agent = 'Mozilla/5.0 (Windows NT 6.1; Win64; x64)'  \n",
    "    req = urllib.request.Request(url, headers={'User-Agent':user_agent})  \n",
    "    with urllib.request.urlopen(req) as response:\n",
    "        html = response.read().decode(encoding)\n",
    "    return html\n",
    "\n"
   ]
  },
  {
   "cell_type": "code",
   "execution_count": 3,
   "metadata": {
    "collapsed": true
   },
   "outputs": [],
   "source": [
    "def find_entries (regex, text):\n",
    "    found = re.findall(regex, text)\n",
    "    words = {}\n",
    "    for item in found:\n",
    "        word = re.findall(reg_word, item)\n",
    "        pos = re.findall (reg_pos, item)\n",
    "        if len(word)!=0 and len(pos)!=0:\n",
    "            word1 = re.sub(reg_tag, '', word[0])\n",
    "            pos1 = re.sub(reg_tag, '', pos[0])\n",
    "            pos2 = re.findall('[a-z]+', pos1)[0]\n",
    "            words[word1.lower()] = pos2\n",
    "    return words"
   ]
  },
  {
   "cell_type": "code",
   "execution_count": 4,
   "metadata": {
    "collapsed": true
   },
   "outputs": [],
   "source": [
    "def alphabet(dicta):\n",
    "    alphabet = {}\n",
    "    for key in dicta.keys():\n",
    "        if list(alphabet.keys()).count(key[0])==0:\n",
    "            alphabet[key[0]] = {key:dicta[key]}\n",
    "        else:\n",
    "            alphabet[key[0]][key]=dicta[key]\n",
    "    return alphabet"
   ]
  },
  {
   "cell_type": "code",
   "execution_count": 5,
   "metadata": {
    "collapsed": true
   },
   "outputs": [],
   "source": [
    "def num_for_letter(alphabet):\n",
    "    numbers = {}\n",
    "    for letter in alphabet.keys():\n",
    "        numbers[letter] = len(alphabet[letter].keys())\n",
    "    return numbers"
   ]
  },
  {
   "cell_type": "code",
   "execution_count": 29,
   "metadata": {
    "collapsed": true
   },
   "outputs": [],
   "source": [
    "def pos(alphabet):\n",
    "    pos_num = {}\n",
    "    for key in alphabet.keys():\n",
    "        for key_in in alphabet[key].keys():    \n",
    "                if list(pos_num.keys()).count(alphabet[key][key_in]) == 0:\n",
    "                    pos_num[alphabet[key][key_in]] = 1\n",
    "                else:\n",
    "                    pos_num[alphabet[key][key_in]] += 1\n",
    "    new_num = {'v':pos_num['v']+pos_num['vtr']+pos_num['vin'], 'n':pos_num['n']+pos_num['np']+pos_num['na']+pos_num['ni']+pos_num['prop'], 'adj':pos_num['adj'], 'adv':pos_num['adv']+pos_num['loc'], 'intj':pos_num['intj'], 'num':pos_num['num'], 'pn':pos_num['pn']+pos_num['dem']+pos_num['det'], 'phrase':pos_num['phrase'], 'conj':pos_num['conj'], 'part':pos_num['part'], 'prep':pos_num['prep'] }\n",
    "    return new_num"
   ]
  },
  {
   "cell_type": "code",
   "execution_count": 30,
   "metadata": {
    "collapsed": true
   },
   "outputs": [],
   "source": [
    "def visualize(dicta, title, ylabel, xlabel, p):\n",
    "    num = len(list(dicta.keys()))\n",
    "    k = 0\n",
    "    li = []\n",
    "    for i in range(num):\n",
    "        k+= p\n",
    "        li.append(k)\n",
    "\n",
    "    X= li\n",
    "    Y = list(dicta.values())\n",
    "    plt.bar(X, Y)\n",
    "    plt.xticks( li, dicta.keys() )\n",
    "    \n",
    "    plt.title(title)\n",
    "    plt.ylabel(ylabel)\n",
    "    plt.xlabel(xlabel)\n",
    "    plt.show()"
   ]
  },
  {
   "cell_type": "code",
   "execution_count": 32,
   "metadata": {},
   "outputs": [
    {
     "data": {
      "image/png": "[encoded data removed]",
      "text/plain": [
       "<matplotlib.figure.Figure at 0x15709794eb8>"
      ]
     },
     "metadata": {},
     "output_type": "display_data"
    },
    {
     "data": {
      "image/png": "[encoded data removed]",
      "text/plain": [
       "<matplotlib.figure.Figure at 0x1570959ac88>"
      ]
     },
     "metadata": {},
     "output_type": "display_data"
    }
   ],
   "source": [
    "def main():\n",
    "    html = create_html('http://wiki.dothraki.org/Vocabulary', 'utf-8')\n",
    "    words = find_entries (reg_word_in_d, html)\n",
    "    alph_words = alphabet(words)\n",
    "    words_per_letter = num_for_letter(alph_words)\n",
    "    words_per_pos = pos (alph_words)\n",
    "    visualize(words_per_letter, \"Количество слов, начинающихся на каждую из букв дотракийского алфавита\", \"количество слов\", \"буквы\", 1)\n",
    "    visualize(words_per_pos,\"Количество слов каждой части речи\", 'количество слов', 'части речи (v = vtr, v, vin; n = n, ni, np, na, prop; adv = adv, loc; pn = pn, dem, det)', 1 )\n",
    "main()"
   ]
  },
  {
   "cell_type": "code",
   "execution_count": null,
   "metadata": {
    "collapsed": true
   },
   "outputs": [],
   "source": []
  },
  {
   "cell_type": "code",
   "execution_count": null,
   "metadata": {
    "collapsed": true
   },
   "outputs": [],
   "source": []
  }
 ],
 "metadata": {
  "kernelspec": {
   "display_name": "Python 3",
   "language": "python",
   "name": "python3"
  },
  "language_info": {
   "codemirror_mode": {
    "name": "ipython",
    "version": 3
   },
   "file_extension": ".py",
   "mimetype": "text/x-python",
   "name": "python",
   "nbconvert_exporter": "python",
   "pygments_lexer": "ipython3",
   "version": "3.6.1"
  }
 },
 "nbformat": 4,
 "nbformat_minor": 2
}
